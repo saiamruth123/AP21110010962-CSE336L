{
 "cells": [
  {
   "cell_type": "code",
   "execution_count": 1,
   "id": "98bc7b57",
   "metadata": {},
   "outputs": [
    {
     "name": "stderr",
     "output_type": "stream",
     "text": [
      "C:\\Users\\KARTHIK\\AppData\\Local\\Temp\\ipykernel_10860\\953287244.py:1: DeprecationWarning: \n",
      "Pyarrow will become a required dependency of pandas in the next major release of pandas (pandas 3.0),\n",
      "(to allow more performant data types, such as the Arrow string type, and better interoperability with other libraries)\n",
      "but was not found to be installed on your system.\n",
      "If this would cause problems for you,\n",
      "please provide us feedback at https://github.com/pandas-dev/pandas/issues/54466\n",
      "        \n",
      "  import pandas as pd\n"
     ]
    },
    {
     "ename": "ModuleNotFoundError",
     "evalue": "No module named 'sklearn'",
     "output_type": "error",
     "traceback": [
      "\u001b[1;31m---------------------------------------------------------------------------\u001b[0m",
      "\u001b[1;31mModuleNotFoundError\u001b[0m                       Traceback (most recent call last)",
      "Cell \u001b[1;32mIn[1], line 3\u001b[0m\n\u001b[0;32m      1\u001b[0m \u001b[38;5;28;01mimport\u001b[39;00m \u001b[38;5;21;01mpandas\u001b[39;00m \u001b[38;5;28;01mas\u001b[39;00m \u001b[38;5;21;01mpd\u001b[39;00m\n\u001b[0;32m      2\u001b[0m \u001b[38;5;28;01mimport\u001b[39;00m \u001b[38;5;21;01mnumpy\u001b[39;00m \u001b[38;5;28;01mas\u001b[39;00m \u001b[38;5;21;01mnp\u001b[39;00m\n\u001b[1;32m----> 3\u001b[0m \u001b[38;5;28;01mfrom\u001b[39;00m \u001b[38;5;21;01msklearn\u001b[39;00m\u001b[38;5;21;01m.\u001b[39;00m\u001b[38;5;21;01mpreprocessing\u001b[39;00m \u001b[38;5;28;01mimport\u001b[39;00m OneHotEncoder\n",
      "\u001b[1;31mModuleNotFoundError\u001b[0m: No module named 'sklearn'"
     ]
    }
   ],
   "source": [
    "import pandas as pd\n",
    "import numpy as np\n",
    "from sklearn.preprocessing import OneHotEncoder"
   ]
  },
  {
   "cell_type": "code",
   "execution_count": 14,
   "id": "a27fafbc",
   "metadata": {},
   "outputs": [
    {
     "ename": "FileNotFoundError",
     "evalue": "[Errno 2] No such file or directory: 'C:/Users/91868/Downloads/tips.csv'",
     "output_type": "error",
     "traceback": [
      "\u001b[1;31m---------------------------------------------------------------------------\u001b[0m",
      "\u001b[1;31mFileNotFoundError\u001b[0m                         Traceback (most recent call last)",
      "Cell \u001b[1;32mIn[14], line 1\u001b[0m\n\u001b[1;32m----> 1\u001b[0m df\u001b[38;5;241m=\u001b[39m\u001b[43mpd\u001b[49m\u001b[38;5;241;43m.\u001b[39;49m\u001b[43mread_csv\u001b[49m\u001b[43m(\u001b[49m\u001b[38;5;124;43m\"\u001b[39;49m\u001b[38;5;124;43mC:/Users/91868/Downloads/tips.csv\u001b[39;49m\u001b[38;5;124;43m\"\u001b[39;49m\u001b[43m)\u001b[49m\n",
      "File \u001b[1;32mc:\\users\\karthik\\appdata\\local\\programs\\python\\python39\\lib\\site-packages\\pandas\\io\\parsers\\readers.py:1024\u001b[0m, in \u001b[0;36mread_csv\u001b[1;34m(filepath_or_buffer, sep, delimiter, header, names, index_col, usecols, dtype, engine, converters, true_values, false_values, skipinitialspace, skiprows, skipfooter, nrows, na_values, keep_default_na, na_filter, verbose, skip_blank_lines, parse_dates, infer_datetime_format, keep_date_col, date_parser, date_format, dayfirst, cache_dates, iterator, chunksize, compression, thousands, decimal, lineterminator, quotechar, quoting, doublequote, escapechar, comment, encoding, encoding_errors, dialect, on_bad_lines, delim_whitespace, low_memory, memory_map, float_precision, storage_options, dtype_backend)\u001b[0m\n\u001b[0;32m   1011\u001b[0m kwds_defaults \u001b[38;5;241m=\u001b[39m _refine_defaults_read(\n\u001b[0;32m   1012\u001b[0m     dialect,\n\u001b[0;32m   1013\u001b[0m     delimiter,\n\u001b[1;32m   (...)\u001b[0m\n\u001b[0;32m   1020\u001b[0m     dtype_backend\u001b[38;5;241m=\u001b[39mdtype_backend,\n\u001b[0;32m   1021\u001b[0m )\n\u001b[0;32m   1022\u001b[0m kwds\u001b[38;5;241m.\u001b[39mupdate(kwds_defaults)\n\u001b[1;32m-> 1024\u001b[0m \u001b[38;5;28;01mreturn\u001b[39;00m \u001b[43m_read\u001b[49m\u001b[43m(\u001b[49m\u001b[43mfilepath_or_buffer\u001b[49m\u001b[43m,\u001b[49m\u001b[43m \u001b[49m\u001b[43mkwds\u001b[49m\u001b[43m)\u001b[49m\n",
      "File \u001b[1;32mc:\\users\\karthik\\appdata\\local\\programs\\python\\python39\\lib\\site-packages\\pandas\\io\\parsers\\readers.py:618\u001b[0m, in \u001b[0;36m_read\u001b[1;34m(filepath_or_buffer, kwds)\u001b[0m\n\u001b[0;32m    615\u001b[0m _validate_names(kwds\u001b[38;5;241m.\u001b[39mget(\u001b[38;5;124m\"\u001b[39m\u001b[38;5;124mnames\u001b[39m\u001b[38;5;124m\"\u001b[39m, \u001b[38;5;28;01mNone\u001b[39;00m))\n\u001b[0;32m    617\u001b[0m \u001b[38;5;66;03m# Create the parser.\u001b[39;00m\n\u001b[1;32m--> 618\u001b[0m parser \u001b[38;5;241m=\u001b[39m TextFileReader(filepath_or_buffer, \u001b[38;5;241m*\u001b[39m\u001b[38;5;241m*\u001b[39mkwds)\n\u001b[0;32m    620\u001b[0m \u001b[38;5;28;01mif\u001b[39;00m chunksize \u001b[38;5;129;01mor\u001b[39;00m iterator:\n\u001b[0;32m    621\u001b[0m     \u001b[38;5;28;01mreturn\u001b[39;00m parser\n",
      "File \u001b[1;32mc:\\users\\karthik\\appdata\\local\\programs\\python\\python39\\lib\\site-packages\\pandas\\io\\parsers\\readers.py:1618\u001b[0m, in \u001b[0;36mTextFileReader.__init__\u001b[1;34m(self, f, engine, **kwds)\u001b[0m\n\u001b[0;32m   1615\u001b[0m     \u001b[38;5;28mself\u001b[39m\u001b[38;5;241m.\u001b[39moptions[\u001b[38;5;124m\"\u001b[39m\u001b[38;5;124mhas_index_names\u001b[39m\u001b[38;5;124m\"\u001b[39m] \u001b[38;5;241m=\u001b[39m kwds[\u001b[38;5;124m\"\u001b[39m\u001b[38;5;124mhas_index_names\u001b[39m\u001b[38;5;124m\"\u001b[39m]\n\u001b[0;32m   1617\u001b[0m \u001b[38;5;28mself\u001b[39m\u001b[38;5;241m.\u001b[39mhandles: IOHandles \u001b[38;5;241m|\u001b[39m \u001b[38;5;28;01mNone\u001b[39;00m \u001b[38;5;241m=\u001b[39m \u001b[38;5;28;01mNone\u001b[39;00m\n\u001b[1;32m-> 1618\u001b[0m \u001b[38;5;28mself\u001b[39m\u001b[38;5;241m.\u001b[39m_engine \u001b[38;5;241m=\u001b[39m \u001b[38;5;28;43mself\u001b[39;49m\u001b[38;5;241;43m.\u001b[39;49m\u001b[43m_make_engine\u001b[49m\u001b[43m(\u001b[49m\u001b[43mf\u001b[49m\u001b[43m,\u001b[49m\u001b[43m \u001b[49m\u001b[38;5;28;43mself\u001b[39;49m\u001b[38;5;241;43m.\u001b[39;49m\u001b[43mengine\u001b[49m\u001b[43m)\u001b[49m\n",
      "File \u001b[1;32mc:\\users\\karthik\\appdata\\local\\programs\\python\\python39\\lib\\site-packages\\pandas\\io\\parsers\\readers.py:1878\u001b[0m, in \u001b[0;36mTextFileReader._make_engine\u001b[1;34m(self, f, engine)\u001b[0m\n\u001b[0;32m   1876\u001b[0m     \u001b[38;5;28;01mif\u001b[39;00m \u001b[38;5;124m\"\u001b[39m\u001b[38;5;124mb\u001b[39m\u001b[38;5;124m\"\u001b[39m \u001b[38;5;129;01mnot\u001b[39;00m \u001b[38;5;129;01min\u001b[39;00m mode:\n\u001b[0;32m   1877\u001b[0m         mode \u001b[38;5;241m+\u001b[39m\u001b[38;5;241m=\u001b[39m \u001b[38;5;124m\"\u001b[39m\u001b[38;5;124mb\u001b[39m\u001b[38;5;124m\"\u001b[39m\n\u001b[1;32m-> 1878\u001b[0m \u001b[38;5;28mself\u001b[39m\u001b[38;5;241m.\u001b[39mhandles \u001b[38;5;241m=\u001b[39m \u001b[43mget_handle\u001b[49m\u001b[43m(\u001b[49m\n\u001b[0;32m   1879\u001b[0m \u001b[43m    \u001b[49m\u001b[43mf\u001b[49m\u001b[43m,\u001b[49m\n\u001b[0;32m   1880\u001b[0m \u001b[43m    \u001b[49m\u001b[43mmode\u001b[49m\u001b[43m,\u001b[49m\n\u001b[0;32m   1881\u001b[0m \u001b[43m    \u001b[49m\u001b[43mencoding\u001b[49m\u001b[38;5;241;43m=\u001b[39;49m\u001b[38;5;28;43mself\u001b[39;49m\u001b[38;5;241;43m.\u001b[39;49m\u001b[43moptions\u001b[49m\u001b[38;5;241;43m.\u001b[39;49m\u001b[43mget\u001b[49m\u001b[43m(\u001b[49m\u001b[38;5;124;43m\"\u001b[39;49m\u001b[38;5;124;43mencoding\u001b[39;49m\u001b[38;5;124;43m\"\u001b[39;49m\u001b[43m,\u001b[49m\u001b[43m \u001b[49m\u001b[38;5;28;43;01mNone\u001b[39;49;00m\u001b[43m)\u001b[49m\u001b[43m,\u001b[49m\n\u001b[0;32m   1882\u001b[0m \u001b[43m    \u001b[49m\u001b[43mcompression\u001b[49m\u001b[38;5;241;43m=\u001b[39;49m\u001b[38;5;28;43mself\u001b[39;49m\u001b[38;5;241;43m.\u001b[39;49m\u001b[43moptions\u001b[49m\u001b[38;5;241;43m.\u001b[39;49m\u001b[43mget\u001b[49m\u001b[43m(\u001b[49m\u001b[38;5;124;43m\"\u001b[39;49m\u001b[38;5;124;43mcompression\u001b[39;49m\u001b[38;5;124;43m\"\u001b[39;49m\u001b[43m,\u001b[49m\u001b[43m \u001b[49m\u001b[38;5;28;43;01mNone\u001b[39;49;00m\u001b[43m)\u001b[49m\u001b[43m,\u001b[49m\n\u001b[0;32m   1883\u001b[0m \u001b[43m    \u001b[49m\u001b[43mmemory_map\u001b[49m\u001b[38;5;241;43m=\u001b[39;49m\u001b[38;5;28;43mself\u001b[39;49m\u001b[38;5;241;43m.\u001b[39;49m\u001b[43moptions\u001b[49m\u001b[38;5;241;43m.\u001b[39;49m\u001b[43mget\u001b[49m\u001b[43m(\u001b[49m\u001b[38;5;124;43m\"\u001b[39;49m\u001b[38;5;124;43mmemory_map\u001b[39;49m\u001b[38;5;124;43m\"\u001b[39;49m\u001b[43m,\u001b[49m\u001b[43m \u001b[49m\u001b[38;5;28;43;01mFalse\u001b[39;49;00m\u001b[43m)\u001b[49m\u001b[43m,\u001b[49m\n\u001b[0;32m   1884\u001b[0m \u001b[43m    \u001b[49m\u001b[43mis_text\u001b[49m\u001b[38;5;241;43m=\u001b[39;49m\u001b[43mis_text\u001b[49m\u001b[43m,\u001b[49m\n\u001b[0;32m   1885\u001b[0m \u001b[43m    \u001b[49m\u001b[43merrors\u001b[49m\u001b[38;5;241;43m=\u001b[39;49m\u001b[38;5;28;43mself\u001b[39;49m\u001b[38;5;241;43m.\u001b[39;49m\u001b[43moptions\u001b[49m\u001b[38;5;241;43m.\u001b[39;49m\u001b[43mget\u001b[49m\u001b[43m(\u001b[49m\u001b[38;5;124;43m\"\u001b[39;49m\u001b[38;5;124;43mencoding_errors\u001b[39;49m\u001b[38;5;124;43m\"\u001b[39;49m\u001b[43m,\u001b[49m\u001b[43m \u001b[49m\u001b[38;5;124;43m\"\u001b[39;49m\u001b[38;5;124;43mstrict\u001b[39;49m\u001b[38;5;124;43m\"\u001b[39;49m\u001b[43m)\u001b[49m\u001b[43m,\u001b[49m\n\u001b[0;32m   1886\u001b[0m \u001b[43m    \u001b[49m\u001b[43mstorage_options\u001b[49m\u001b[38;5;241;43m=\u001b[39;49m\u001b[38;5;28;43mself\u001b[39;49m\u001b[38;5;241;43m.\u001b[39;49m\u001b[43moptions\u001b[49m\u001b[38;5;241;43m.\u001b[39;49m\u001b[43mget\u001b[49m\u001b[43m(\u001b[49m\u001b[38;5;124;43m\"\u001b[39;49m\u001b[38;5;124;43mstorage_options\u001b[39;49m\u001b[38;5;124;43m\"\u001b[39;49m\u001b[43m,\u001b[49m\u001b[43m \u001b[49m\u001b[38;5;28;43;01mNone\u001b[39;49;00m\u001b[43m)\u001b[49m\u001b[43m,\u001b[49m\n\u001b[0;32m   1887\u001b[0m \u001b[43m\u001b[49m\u001b[43m)\u001b[49m\n\u001b[0;32m   1888\u001b[0m \u001b[38;5;28;01massert\u001b[39;00m \u001b[38;5;28mself\u001b[39m\u001b[38;5;241m.\u001b[39mhandles \u001b[38;5;129;01mis\u001b[39;00m \u001b[38;5;129;01mnot\u001b[39;00m \u001b[38;5;28;01mNone\u001b[39;00m\n\u001b[0;32m   1889\u001b[0m f \u001b[38;5;241m=\u001b[39m \u001b[38;5;28mself\u001b[39m\u001b[38;5;241m.\u001b[39mhandles\u001b[38;5;241m.\u001b[39mhandle\n",
      "File \u001b[1;32mc:\\users\\karthik\\appdata\\local\\programs\\python\\python39\\lib\\site-packages\\pandas\\io\\common.py:873\u001b[0m, in \u001b[0;36mget_handle\u001b[1;34m(path_or_buf, mode, encoding, compression, memory_map, is_text, errors, storage_options)\u001b[0m\n\u001b[0;32m    868\u001b[0m \u001b[38;5;28;01melif\u001b[39;00m \u001b[38;5;28misinstance\u001b[39m(handle, \u001b[38;5;28mstr\u001b[39m):\n\u001b[0;32m    869\u001b[0m     \u001b[38;5;66;03m# Check whether the filename is to be opened in binary mode.\u001b[39;00m\n\u001b[0;32m    870\u001b[0m     \u001b[38;5;66;03m# Binary mode does not support 'encoding' and 'newline'.\u001b[39;00m\n\u001b[0;32m    871\u001b[0m     \u001b[38;5;28;01mif\u001b[39;00m ioargs\u001b[38;5;241m.\u001b[39mencoding \u001b[38;5;129;01mand\u001b[39;00m \u001b[38;5;124m\"\u001b[39m\u001b[38;5;124mb\u001b[39m\u001b[38;5;124m\"\u001b[39m \u001b[38;5;129;01mnot\u001b[39;00m \u001b[38;5;129;01min\u001b[39;00m ioargs\u001b[38;5;241m.\u001b[39mmode:\n\u001b[0;32m    872\u001b[0m         \u001b[38;5;66;03m# Encoding\u001b[39;00m\n\u001b[1;32m--> 873\u001b[0m         handle \u001b[38;5;241m=\u001b[39m \u001b[38;5;28;43mopen\u001b[39;49m\u001b[43m(\u001b[49m\n\u001b[0;32m    874\u001b[0m \u001b[43m            \u001b[49m\u001b[43mhandle\u001b[49m\u001b[43m,\u001b[49m\n\u001b[0;32m    875\u001b[0m \u001b[43m            \u001b[49m\u001b[43mioargs\u001b[49m\u001b[38;5;241;43m.\u001b[39;49m\u001b[43mmode\u001b[49m\u001b[43m,\u001b[49m\n\u001b[0;32m    876\u001b[0m \u001b[43m            \u001b[49m\u001b[43mencoding\u001b[49m\u001b[38;5;241;43m=\u001b[39;49m\u001b[43mioargs\u001b[49m\u001b[38;5;241;43m.\u001b[39;49m\u001b[43mencoding\u001b[49m\u001b[43m,\u001b[49m\n\u001b[0;32m    877\u001b[0m \u001b[43m            \u001b[49m\u001b[43merrors\u001b[49m\u001b[38;5;241;43m=\u001b[39;49m\u001b[43merrors\u001b[49m\u001b[43m,\u001b[49m\n\u001b[0;32m    878\u001b[0m \u001b[43m            \u001b[49m\u001b[43mnewline\u001b[49m\u001b[38;5;241;43m=\u001b[39;49m\u001b[38;5;124;43m\"\u001b[39;49m\u001b[38;5;124;43m\"\u001b[39;49m\u001b[43m,\u001b[49m\n\u001b[0;32m    879\u001b[0m \u001b[43m        \u001b[49m\u001b[43m)\u001b[49m\n\u001b[0;32m    880\u001b[0m     \u001b[38;5;28;01melse\u001b[39;00m:\n\u001b[0;32m    881\u001b[0m         \u001b[38;5;66;03m# Binary mode\u001b[39;00m\n\u001b[0;32m    882\u001b[0m         handle \u001b[38;5;241m=\u001b[39m \u001b[38;5;28mopen\u001b[39m(handle, ioargs\u001b[38;5;241m.\u001b[39mmode)\n",
      "\u001b[1;31mFileNotFoundError\u001b[0m: [Errno 2] No such file or directory: 'C:/Users/91868/Downloads/tips.csv'"
     ]
    }
   ],
   "source": [
    "df=pd.read_csv(\"C:/Users/91868/Downloads/tips.csv\")"
   ]
  },
  {
   "cell_type": "code",
   "execution_count": 15,
   "id": "1aafbf51",
   "metadata": {},
   "outputs": [
    {
     "ename": "NameError",
     "evalue": "name 'df' is not defined",
     "output_type": "error",
     "traceback": [
      "\u001b[1;31m---------------------------------------------------------------------------\u001b[0m",
      "\u001b[1;31mNameError\u001b[0m                                 Traceback (most recent call last)",
      "Cell \u001b[1;32mIn[15], line 1\u001b[0m\n\u001b[1;32m----> 1\u001b[0m \u001b[43mdf\u001b[49m\u001b[38;5;241m.\u001b[39mhead()\n",
      "\u001b[1;31mNameError\u001b[0m: name 'df' is not defined"
     ]
    }
   ],
   "source": [
    "df.head()"
   ]
  },
  {
   "cell_type": "code",
   "execution_count": 16,
   "id": "9bfaecd3",
   "metadata": {},
   "outputs": [
    {
     "ename": "NameError",
     "evalue": "name 'df' is not defined",
     "output_type": "error",
     "traceback": [
      "\u001b[1;31m---------------------------------------------------------------------------\u001b[0m",
      "\u001b[1;31mNameError\u001b[0m                                 Traceback (most recent call last)",
      "Cell \u001b[1;32mIn[16], line 1\u001b[0m\n\u001b[1;32m----> 1\u001b[0m \u001b[43mdf\u001b[49m\u001b[38;5;241m.\u001b[39misnull()\u001b[38;5;241m.\u001b[39msum()\n",
      "\u001b[1;31mNameError\u001b[0m: name 'df' is not defined"
     ]
    }
   ],
   "source": [
    "df.isnull().sum()"
   ]
  },
  {
   "cell_type": "code",
   "execution_count": 17,
   "id": "90b03f21",
   "metadata": {},
   "outputs": [
    {
     "ename": "NameError",
     "evalue": "name 'df' is not defined",
     "output_type": "error",
     "traceback": [
      "\u001b[1;31m---------------------------------------------------------------------------\u001b[0m",
      "\u001b[1;31mNameError\u001b[0m                                 Traceback (most recent call last)",
      "Cell \u001b[1;32mIn[17], line 1\u001b[0m\n\u001b[1;32m----> 1\u001b[0m \u001b[43mdf\u001b[49m\u001b[38;5;241m.\u001b[39minfo()\n",
      "\u001b[1;31mNameError\u001b[0m: name 'df' is not defined"
     ]
    }
   ],
   "source": [
    "df.info()"
   ]
  },
  {
   "cell_type": "code",
   "execution_count": 18,
   "id": "ae427d5a",
   "metadata": {},
   "outputs": [
    {
     "ename": "NameError",
     "evalue": "name 'df' is not defined",
     "output_type": "error",
     "traceback": [
      "\u001b[1;31m---------------------------------------------------------------------------\u001b[0m",
      "\u001b[1;31mNameError\u001b[0m                                 Traceback (most recent call last)",
      "Cell \u001b[1;32mIn[18], line 1\u001b[0m\n\u001b[1;32m----> 1\u001b[0m \u001b[43mdf\u001b[49m\u001b[38;5;241m.\u001b[39misna()\u001b[38;5;241m.\u001b[39msum()\n",
      "\u001b[1;31mNameError\u001b[0m: name 'df' is not defined"
     ]
    }
   ],
   "source": [
    "df.isna().sum()"
   ]
  },
  {
   "cell_type": "code",
   "execution_count": 19,
   "id": "3ea5adf0",
   "metadata": {},
   "outputs": [
    {
     "ename": "NameError",
     "evalue": "name 'df' is not defined",
     "output_type": "error",
     "traceback": [
      "\u001b[1;31m---------------------------------------------------------------------------\u001b[0m",
      "\u001b[1;31mNameError\u001b[0m                                 Traceback (most recent call last)",
      "Cell \u001b[1;32mIn[19], line 1\u001b[0m\n\u001b[1;32m----> 1\u001b[0m \u001b[43mdf\u001b[49m\u001b[38;5;241m.\u001b[39misnull()\u001b[38;5;241m.\u001b[39mmean()\n",
      "\u001b[1;31mNameError\u001b[0m: name 'df' is not defined"
     ]
    }
   ],
   "source": [
    "df.isnull().mean()"
   ]
  },
  {
   "cell_type": "code",
   "execution_count": 20,
   "id": "710c081e",
   "metadata": {},
   "outputs": [],
   "source": [
    "def impute_nan(df, variable, method):\n",
    "    df[variable] = df[variable].fillna(method)"
   ]
  },
  {
   "cell_type": "code",
   "execution_count": 158,
   "id": "3b3da8cd",
   "metadata": {},
   "outputs": [],
   "source": [
    "method = df.total_bill.median()"
   ]
  },
  {
   "cell_type": "code",
   "execution_count": 159,
   "id": "c403d45a",
   "metadata": {},
   "outputs": [],
   "source": [
    "impute_nan(df,'total_bill',method)"
   ]
  },
  {
   "cell_type": "code",
   "execution_count": 160,
   "id": "6981e561",
   "metadata": {},
   "outputs": [
    {
     "data": {
      "text/html": [
       "<div>\n",
       "<style scoped>\n",
       "    .dataframe tbody tr th:only-of-type {\n",
       "        vertical-align: middle;\n",
       "    }\n",
       "\n",
       "    .dataframe tbody tr th {\n",
       "        vertical-align: top;\n",
       "    }\n",
       "\n",
       "    .dataframe thead th {\n",
       "        text-align: right;\n",
       "    }\n",
       "</style>\n",
       "<table border=\"1\" class=\"dataframe\">\n",
       "  <thead>\n",
       "    <tr style=\"text-align: right;\">\n",
       "      <th></th>\n",
       "      <th>Unnamed: 0</th>\n",
       "      <th>total_bill</th>\n",
       "      <th>tip</th>\n",
       "      <th>sex</th>\n",
       "      <th>smoker</th>\n",
       "      <th>day</th>\n",
       "      <th>time</th>\n",
       "      <th>size</th>\n",
       "    </tr>\n",
       "  </thead>\n",
       "  <tbody>\n",
       "    <tr>\n",
       "      <th>0</th>\n",
       "      <td>0</td>\n",
       "      <td>16.99</td>\n",
       "      <td>1.01</td>\n",
       "      <td>Female</td>\n",
       "      <td>No</td>\n",
       "      <td>Sun</td>\n",
       "      <td>Dinner</td>\n",
       "      <td>2</td>\n",
       "    </tr>\n",
       "    <tr>\n",
       "      <th>1</th>\n",
       "      <td>1</td>\n",
       "      <td>19.44</td>\n",
       "      <td>1.66</td>\n",
       "      <td>Male</td>\n",
       "      <td>No</td>\n",
       "      <td>Sun</td>\n",
       "      <td>Dinner</td>\n",
       "      <td>3</td>\n",
       "    </tr>\n",
       "    <tr>\n",
       "      <th>2</th>\n",
       "      <td>2</td>\n",
       "      <td>21.01</td>\n",
       "      <td>3.50</td>\n",
       "      <td>Male</td>\n",
       "      <td>No</td>\n",
       "      <td>Sun</td>\n",
       "      <td>Dinner</td>\n",
       "      <td>3</td>\n",
       "    </tr>\n",
       "    <tr>\n",
       "      <th>3</th>\n",
       "      <td>3</td>\n",
       "      <td>23.68</td>\n",
       "      <td>3.31</td>\n",
       "      <td>Male</td>\n",
       "      <td>No</td>\n",
       "      <td>Sun</td>\n",
       "      <td>Dinner</td>\n",
       "      <td>2</td>\n",
       "    </tr>\n",
       "    <tr>\n",
       "      <th>4</th>\n",
       "      <td>4</td>\n",
       "      <td>24.59</td>\n",
       "      <td>3.61</td>\n",
       "      <td>Female</td>\n",
       "      <td>No</td>\n",
       "      <td>Sun</td>\n",
       "      <td>Dinner</td>\n",
       "      <td>4</td>\n",
       "    </tr>\n",
       "  </tbody>\n",
       "</table>\n",
       "</div>"
      ],
      "text/plain": [
       "   Unnamed: 0  total_bill   tip     sex smoker  day    time  size\n",
       "0           0       16.99  1.01  Female     No  Sun  Dinner     2\n",
       "1           1       19.44  1.66    Male     No  Sun  Dinner     3\n",
       "2           2       21.01  3.50    Male     No  Sun  Dinner     3\n",
       "3           3       23.68  3.31    Male     No  Sun  Dinner     2\n",
       "4           4       24.59  3.61  Female     No  Sun  Dinner     4"
      ]
     },
     "execution_count": 160,
     "metadata": {},
     "output_type": "execute_result"
    }
   ],
   "source": [
    "df.head(5)"
   ]
  },
  {
   "cell_type": "code",
   "execution_count": 161,
   "id": "55a1bde9",
   "metadata": {},
   "outputs": [],
   "source": [
    "# df['total_bill'].replace(df['total_bill_median'],inplace=True)"
   ]
  },
  {
   "cell_type": "code",
   "execution_count": 162,
   "id": "a8858a3b",
   "metadata": {},
   "outputs": [],
   "source": [
    "# df.drop('total_bill_median',axis=1).head(5)"
   ]
  },
  {
   "cell_type": "code",
   "execution_count": 163,
   "id": "76926808",
   "metadata": {},
   "outputs": [
    {
     "data": {
      "text/plain": [
       "Unnamed: 0    0\n",
       "total_bill    0\n",
       "tip           0\n",
       "sex           0\n",
       "smoker        0\n",
       "day           0\n",
       "time          0\n",
       "size          0\n",
       "dtype: int64"
      ]
     },
     "execution_count": 163,
     "metadata": {},
     "output_type": "execute_result"
    }
   ],
   "source": [
    "df.isnull().sum()"
   ]
  },
  {
   "cell_type": "code",
   "execution_count": 164,
   "id": "a8eaf83d",
   "metadata": {},
   "outputs": [],
   "source": [
    "#Q2 Handle the categorical data in the tips dataset with the relevant approaches such as label-encoding, one hot encoding, ordinal encoding."
   ]
  },
  {
   "cell_type": "code",
   "execution_count": 165,
   "id": "f5d69913",
   "metadata": {},
   "outputs": [
    {
     "name": "stdout",
     "output_type": "stream",
     "text": [
      "<class 'pandas.core.frame.DataFrame'>\n",
      "RangeIndex: 244 entries, 0 to 243\n",
      "Data columns (total 8 columns):\n",
      " #   Column      Non-Null Count  Dtype  \n",
      "---  ------      --------------  -----  \n",
      " 0   Unnamed: 0  244 non-null    int64  \n",
      " 1   total_bill  244 non-null    float64\n",
      " 2   tip         244 non-null    float64\n",
      " 3   sex         244 non-null    object \n",
      " 4   smoker      244 non-null    object \n",
      " 5   day         244 non-null    object \n",
      " 6   time        244 non-null    object \n",
      " 7   size        244 non-null    int64  \n",
      "dtypes: float64(2), int64(2), object(4)\n",
      "memory usage: 15.4+ KB\n"
     ]
    }
   ],
   "source": [
    "df.info()"
   ]
  },
  {
   "cell_type": "code",
   "execution_count": 166,
   "id": "c5a57c34",
   "metadata": {},
   "outputs": [],
   "source": [
    "ohe=OneHotEncoder()"
   ]
  },
  {
   "cell_type": "code",
   "execution_count": 167,
   "id": "b7398cba",
   "metadata": {},
   "outputs": [
    {
     "data": {
      "text/plain": [
       "array([[1., 0., 1., ..., 0., 1., 0.],\n",
       "       [0., 1., 1., ..., 0., 1., 0.],\n",
       "       [0., 1., 1., ..., 0., 1., 0.],\n",
       "       ...,\n",
       "       [0., 1., 0., ..., 0., 1., 0.],\n",
       "       [0., 1., 1., ..., 0., 1., 0.],\n",
       "       [1., 0., 1., ..., 1., 1., 0.]])"
      ]
     },
     "execution_count": 167,
     "metadata": {},
     "output_type": "execute_result"
    }
   ],
   "source": [
    "ohe.fit_transform(df[['sex','smoker','day','time']]).toarray()"
   ]
  },
  {
   "cell_type": "code",
   "execution_count": 168,
   "id": "683f26c6",
   "metadata": {},
   "outputs": [],
   "source": [
    "#Q3 Perform feature scaling techniques such as min-max normalization, standardization, z-score, on the tips dataset."
   ]
  },
  {
   "cell_type": "code",
   "execution_count": 169,
   "id": "4f10bdf3",
   "metadata": {},
   "outputs": [],
   "source": [
    "from sklearn.preprocessing import MinMaxScaler\n",
    "mi = MinMaxScaler()"
   ]
  },
  {
   "cell_type": "code",
   "execution_count": 170,
   "id": "3eb6d844",
   "metadata": {},
   "outputs": [],
   "source": [
    "df_minmax = mi.fit_transform(df[['total_bill','tip']]) "
   ]
  },
  {
   "cell_type": "code",
   "execution_count": 171,
   "id": "426d83ac",
   "metadata": {},
   "outputs": [],
   "source": [
    "dff=pd.DataFrame(df_minmax,columns=['total_bill','tip'])"
   ]
  },
  {
   "cell_type": "code",
   "execution_count": 172,
   "id": "3438c4cc",
   "metadata": {},
   "outputs": [
    {
     "data": {
      "text/html": [
       "<div>\n",
       "<style scoped>\n",
       "    .dataframe tbody tr th:only-of-type {\n",
       "        vertical-align: middle;\n",
       "    }\n",
       "\n",
       "    .dataframe tbody tr th {\n",
       "        vertical-align: top;\n",
       "    }\n",
       "\n",
       "    .dataframe thead th {\n",
       "        text-align: right;\n",
       "    }\n",
       "</style>\n",
       "<table border=\"1\" class=\"dataframe\">\n",
       "  <thead>\n",
       "    <tr style=\"text-align: right;\">\n",
       "      <th></th>\n",
       "      <th>total_bill</th>\n",
       "      <th>tip</th>\n",
       "    </tr>\n",
       "  </thead>\n",
       "  <tbody>\n",
       "    <tr>\n",
       "      <th>54</th>\n",
       "      <td>0.471093</td>\n",
       "      <td>0.371111</td>\n",
       "    </tr>\n",
       "    <tr>\n",
       "      <th>210</th>\n",
       "      <td>0.565354</td>\n",
       "      <td>0.111111</td>\n",
       "    </tr>\n",
       "    <tr>\n",
       "      <th>90</th>\n",
       "      <td>0.542522</td>\n",
       "      <td>0.222222</td>\n",
       "    </tr>\n",
       "    <tr>\n",
       "      <th>151</th>\n",
       "      <td>0.210725</td>\n",
       "      <td>0.111111</td>\n",
       "    </tr>\n",
       "    <tr>\n",
       "      <th>220</th>\n",
       "      <td>0.342899</td>\n",
       "      <td>0.133333</td>\n",
       "    </tr>\n",
       "  </tbody>\n",
       "</table>\n",
       "</div>"
      ],
      "text/plain": [
       "     total_bill       tip\n",
       "54     0.471093  0.371111\n",
       "210    0.565354  0.111111\n",
       "90     0.542522  0.222222\n",
       "151    0.210725  0.111111\n",
       "220    0.342899  0.133333"
      ]
     },
     "execution_count": 172,
     "metadata": {},
     "output_type": "execute_result"
    }
   ],
   "source": [
    "dff.sample(5)"
   ]
  },
  {
   "cell_type": "code",
   "execution_count": 173,
   "id": "295aa073",
   "metadata": {},
   "outputs": [
    {
     "data": {
      "text/plain": [
       "(array([ 1.,  6., 10.,  0., 24., 37., 67., 23., 18., 13., 10.,  9.,  5.,\n",
       "         7.,  3.,  4.,  1.,  2.,  3.,  1.]),\n",
       " array([0.  , 0.05, 0.1 , 0.15, 0.2 , 0.25, 0.3 , 0.35, 0.4 , 0.45, 0.5 ,\n",
       "        0.55, 0.6 , 0.65, 0.7 , 0.75, 0.8 , 0.85, 0.9 , 0.95, 1.  ]),\n",
       " <BarContainer object of 20 artists>)"
      ]
     },
     "execution_count": 173,
     "metadata": {},
     "output_type": "execute_result"
    },
    {
     "data": {
      "image/png": "[encoded data removed]",
      "text/plain": [
       "<Figure size 640x480 with 1 Axes>"
      ]
     },
     "metadata": {},
     "output_type": "display_data"
    }
   ],
   "source": [
    "import matplotlib.pyplot as plt\n",
    "plt.hist(dff['total_bill'], bins = 20,color='red',edgecolor='black')"
   ]
  },
  {
   "cell_type": "code",
   "execution_count": 174,
   "id": "23d9d521",
   "metadata": {},
   "outputs": [],
   "source": [
    "#standardization"
   ]
  },
  {
   "cell_type": "code",
   "execution_count": 175,
   "id": "58b07a3d",
   "metadata": {},
   "outputs": [],
   "source": [
    "from sklearn.preprocessing import StandardScaler"
   ]
  },
  {
   "cell_type": "code",
   "execution_count": 176,
   "id": "bcb34bd3",
   "metadata": {},
   "outputs": [],
   "source": [
    "s = StandardScaler()"
   ]
  },
  {
   "cell_type": "code",
   "execution_count": 177,
   "id": "c5667fb6",
   "metadata": {},
   "outputs": [],
   "source": [
    "df_scaled = s.fit_transform(df[['total_bill','tip']])"
   ]
  },
  {
   "cell_type": "code",
   "execution_count": 178,
   "id": "445c2eec",
   "metadata": {},
   "outputs": [
    {
     "data": {
      "text/plain": [
       "array([[-4.99243641e-01, -1.43994695e+00],\n",
       "       [-1.98219022e-01, -9.69205340e-01],\n",
       "       [-5.31753091e-03,  3.63355539e-01],\n",
       "       [ 3.22737871e-01,  2.25754144e-01],\n",
       "       [ 4.34547015e-01,  4.43019505e-01],\n",
       "       [ 5.20554049e-01,  1.23965916e+00],\n",
       "       [-1.50921196e+00, -7.22971264e-01],\n",
       "       [ 7.15912884e-01,  8.81527488e-02],\n",
       "       [-7.38834665e-01, -7.51939979e-01],\n",
       "       [-7.70780134e-01,  1.67816714e-01],\n",
       "       [-1.98219022e-01, -9.32994446e-01],\n",
       "       [ 1.74553995e+00,  1.44968234e+00],\n",
       "       [-6.92145132e-01, -1.03438495e+00],\n",
       "       [-3.22314885e-01,  1.24660453e-03],\n",
       "       [-7.64636775e-01,  1.57309619e-02],\n",
       "       [ 6.47167683e-02,  6.67527044e-01],\n",
       "       [-1.98219022e-01, -9.61963161e-01],\n",
       "       [-5.85250675e-01,  5.15441291e-01],\n",
       "       [-5.01700985e-01,  3.63355539e-01],\n",
       "       [-4.95497199e-02,  2.54722859e-01],\n",
       "       [-3.84977153e-01,  7.83401903e-01],\n",
       "       [-9.37819088e-02, -1.79807863e-01],\n",
       "       [-6.49141615e-01, -5.56401155e-01],\n",
       "       [ 2.25666747e+00,  3.31816444e+00],\n",
       "       [-1.51529489e-01,  1.31605821e-01],\n",
       "       [-3.98492544e-01, -4.76737189e-01],\n",
       "       [-9.44022874e-01, -7.22971264e-01],\n",
       "       [-1.98219022e-01, -7.22971264e-01],\n",
       "       [ 7.94608313e-02,  9.42729834e-01],\n",
       "       [-1.72416911e-01,  1.24660453e-03],\n",
       "       [-1.41337555e+00, -1.12129109e+00],\n",
       "       [-3.32144260e-01, -3.60862330e-01],\n",
       "       [-7.36377321e-01,  1.24660453e-03],\n",
       "       [-4.46350322e-02, -3.97073223e-01],\n",
       "       [-4.02178560e-01,  1.96785429e-01],\n",
       "       [ 3.69427403e-01,  4.35777326e-01],\n",
       "       [-5.82793331e-01, -7.22971264e-01],\n",
       "       [-5.06615672e-01,  5.19418554e-02],\n",
       "       [-2.90369415e-01, -4.98463725e-01],\n",
       "       [ 1.25529985e+00,  1.44968234e+00],\n",
       "       [-6.15967473e-01, -5.49158976e-01],\n",
       "       [-4.41496061e-01, -3.31893615e-01],\n",
       "       [-8.73988575e-01,  4.46996767e-02],\n",
       "       [-1.39740281e+00, -1.21543942e+00],\n",
       "       [ 1.14840540e+00,  1.88421306e+00],\n",
       "       [-3.39516292e-01,  1.24660453e-03],\n",
       "       [ 1.44580443e-01,  1.44968234e+00],\n",
       "       [ 1.39413978e+00,  2.17390021e+00],\n",
       "       [ 9.21101093e-01, -6.86760371e-01],\n",
       "       [-3.70233090e-01,  1.24660453e-03],\n",
       "       [-1.98219022e-01, -3.60862330e-01],\n",
       "       [-1.98219022e-01, -2.88440543e-01],\n",
       "       [ 1.69024971e+00,  1.59452592e+00],\n",
       "       [-1.36545734e+00, -1.04162713e+00],\n",
       "       [ 5.53728191e-01,  9.71698549e-01],\n",
       "       [-1.92075662e-01,  3.70597718e-01],\n",
       "       [ 2.08342473e+00,  1.24660453e-03],\n",
       "       [ 6.58165304e-01, -1.08508020e+00],\n",
       "       [-1.98219022e-01, -8.96783553e-01],\n",
       "       [ 3.34404211e+00,  2.70257926e+00],\n",
       "       [-9.37819088e-02,  1.53332357e-01],\n",
       "       [-8.89961310e-01, -7.22971264e-01],\n",
       "       [-1.98219022e-01, -7.37455622e-01],\n",
       "       [-3.39516292e-01,  5.51652185e-01],\n",
       "       [-4.25523326e-01, -2.59471828e-01],\n",
       "       [-1.19584019e-01,  1.09879285e-01],\n",
       "       [-5.65591924e-01, -3.82588866e-01],\n",
       "       [-2.20955495e+00, -1.44718913e+00],\n",
       "       [-1.01153940e-01, -7.15729086e-01],\n",
       "       [-7.42520680e-01, -6.57791656e-01],\n",
       "       [-1.98219022e-01, -7.44697800e-01],\n",
       "       [-4.89414266e-01,  1.24660453e-03],\n",
       "       [ 7.13455540e-01,  1.02637106e-01],\n",
       "       [ 5.19325377e-01,  1.44968234e+00],\n",
       "       [-7.76923494e-01, -5.78127691e-01],\n",
       "       [-1.98219022e-01, -1.26613467e+00],\n",
       "       [-3.84977153e-01,  5.91840340e-02],\n",
       "       [ 7.55230385e-01,  7.25464473e-01],\n",
       "       [ 2.09700054e-01,  1.24660453e-03],\n",
       "       [-4.62383484e-01, -2.08776577e-01],\n",
       "       [-1.98219022e-01,  1.24660453e-03],\n",
       "       [-5.39789814e-01,  2.90933752e-01],\n",
       "       [-1.98219022e-01, -8.46088302e-01],\n",
       "       [ 1.42854259e+00,  1.44968234e+00],\n",
       "       [-6.23339504e-01, -7.01244728e-01],\n",
       "       [ 1.69270706e+00,  1.57279938e+00],\n",
       "       [-9.85797720e-01, -7.22971264e-01],\n",
       "       [-3.40744964e-01,  7.25464473e-01],\n",
       "       [ 4.49291078e-01,  2.06526753e+00],\n",
       "       [ 1.31125478e-02,  1.24660453e-03],\n",
       "       [ 9.72705314e-01,  1.24660453e-03],\n",
       "       [ 1.76525913e-01,  3.63355539e-01],\n",
       "       [-1.88027087e+00, -1.44718913e+00],\n",
       "       [-5.81564659e-01,  9.42729834e-01],\n",
       "       [ 2.08471382e-01,  1.82301072e-01],\n",
       "       [ 2.34881786e+00,  1.25414352e+00],\n",
       "       [ 7.65059760e-01,  7.25464473e-01],\n",
       "       [-1.98219022e-01, -1.08508020e+00],\n",
       "       [-5.31753091e-03,  1.24660453e-03],\n",
       "       [-1.98219022e-01, -1.08508020e+00],\n",
       "       [-1.98219022e-01, -3.60862330e-01],\n",
       "       [-6.97059819e-01,  1.24660453e-03],\n",
       "       [ 2.85625936e+00, -3.60862330e-01],\n",
       "       [ 1.67925209e-01,  3.48871182e-01],\n",
       "       [-1.63755782e-02,  7.83401903e-01],\n",
       "       [-6.99517163e-01, -9.83689697e-01],\n",
       "       [-6.92084705e-02,  7.68917546e-01],\n",
       "       [ 5.10724674e-01,  9.35487655e-01],\n",
       "       [-3.45659652e-01,  5.51652185e-01],\n",
       "       [-8.28527714e-01,  7.25464473e-01],\n",
       "       [-8.66616544e-01,  1.24660453e-03],\n",
       "       [-1.69597009e+00, -1.44718913e+00],\n",
       "       [ 2.09079676e+00,  7.25464473e-01],\n",
       "       [ 3.55912012e-01, -3.24651436e-01],\n",
       "       [ 5.72158269e-01,  7.25464473e-01],\n",
       "       [-4.59926140e-01,  3.63355539e-01],\n",
       "       [ 1.09065782e+00,  1.50037759e+00],\n",
       "       [-1.98219022e-01, -1.08508020e+00],\n",
       "       [-1.98219022e-01, -8.67814838e-01],\n",
       "       [ 3.71884747e-01, -5.66908250e-02],\n",
       "       [-1.98219022e-01, -4.98463725e-01],\n",
       "       [-9.37879515e-01, -9.54720982e-01],\n",
       "       [-8.34671074e-01, -3.60862330e-01],\n",
       "       [-6.27025520e-01, -7.22971264e-01],\n",
       "       [-1.98219022e-01, -3.46377973e-01],\n",
       "       [ 1.07468508e+00,  8.70308047e-01],\n",
       "       [-1.53992875e+00, -1.09956456e+00],\n",
       "       [-8.02725604e-01, -7.22971264e-01],\n",
       "       [-1.98219022e-01, -7.22971264e-01],\n",
       "       [ 2.17072086e-01, -5.92612048e-01],\n",
       "       [-2.42451211e-01, -1.08508020e+00],\n",
       "       [-9.62392527e-02, -1.21870433e-01],\n",
       "       [-1.98219022e-01, -1.08508020e+00],\n",
       "       [-1.98219022e-01, -7.22971264e-01],\n",
       "       [-3.43202308e-01,  1.82301072e-01],\n",
       "       [-1.54115743e+00, -1.26613467e+00],\n",
       "       [-1.98219022e-01, -7.22971264e-01],\n",
       "       [-8.48186465e-01, -7.22971264e-01],\n",
       "       [-6.20882161e-01, -7.22971264e-01],\n",
       "       [-9.69824985e-01, -1.79807863e-01],\n",
       "       [-4.40267389e-01,  3.63355539e-01],\n",
       "       [ 1.62758744e+00,  2.68085272e+00],\n",
       "       [ 2.47414239e+00,  1.44968234e+00],\n",
       "       [ 7.36800306e-01,  1.44968234e+00],\n",
       "       [-5.68049268e-01, -5.05705904e-01],\n",
       "       [-1.56081618e+00, -1.08508020e+00],\n",
       "       [-2.96512775e-01, -1.18647070e+00],\n",
       "       [-1.98219022e-01, -9.90931876e-01],\n",
       "       [-1.38511609e+00, -9.18510089e-01],\n",
       "       [-1.66402462e+00, -7.22971264e-01],\n",
       "       [-8.58015840e-01, -3.60862330e-01],\n",
       "       [-9.73511000e-01, -7.22971264e-01],\n",
       "       [-4.66069499e-01, -1.87050041e-01],\n",
       "       [ 4.29632327e-01, -7.22971264e-01],\n",
       "       [-1.57672848e-01, -7.22971264e-01],\n",
       "       [ 1.08082844e+00,  1.55107284e+00],\n",
       "       [ 3.33175539e+00,  1.44968234e+00],\n",
       "       [ 4.84922563e-01,  5.44410006e-01],\n",
       "       [-9.41565531e-01, -2.81198364e-01],\n",
       "       [-5.60677237e-01, -7.22971264e-01],\n",
       "       [ 5.48873930e-02,  3.63355539e-01],\n",
       "       [-1.98219022e-01, -3.60862330e-01],\n",
       "       [-5.95080050e-01, -7.22971264e-01],\n",
       "       [-8.89961310e-01, -7.22971264e-01],\n",
       "       [-4.35352701e-01,  1.24660453e-03],\n",
       "       [ 4.25946311e-01,  3.48871182e-01],\n",
       "       [-3.60343288e-02, -5.49158976e-01],\n",
       "       [ 1.30936142e+00,  1.08757341e+00],\n",
       "       [-1.98219022e-01, -1.00541623e+00],\n",
       "       [-1.98219022e-01, -7.22971264e-01],\n",
       "       [ 3.65612478e+00,  5.07077169e+00],\n",
       "       [-6.44226927e-01,  1.17121464e-01],\n",
       "       [-1.69597009e+00,  1.55831502e+00],\n",
       "       [ 1.32656283e+00,  1.31605821e-01],\n",
       "       [-5.20131064e-01,  7.25464473e-01],\n",
       "       [ 1.45557338e+00,  8.09105701e-02],\n",
       "       [-3.88663169e-01, -7.22971264e-01],\n",
       "       [-8.07640292e-01, -7.22971264e-01],\n",
       "       [-1.40723219e+00,  7.25464473e-01],\n",
       "       [ 1.66813362e+00,  3.99566432e-01],\n",
       "       [ 1.67059096e+00,  4.93714755e-01],\n",
       "       [ 2.79734354e-01,  1.92042396e+00],\n",
       "       [ 2.98526991e+00,  3.63355539e-01],\n",
       "       [ 2.60075603e-01,  2.53600915e+00],\n",
       "       [ 2.39550739e+00,  1.24660453e-03],\n",
       "       [-4.46350322e-02,  1.44968234e+00],\n",
       "       [-1.88329220e-02,  3.63355539e-01],\n",
       "       [ 1.15577743e+00, -7.22971264e-01],\n",
       "       [-3.56717699e-01,  3.63355539e-01],\n",
       "       [ 2.51474899e-01,  7.25464473e-01],\n",
       "       [-6.58970990e-01, -1.08508020e+00],\n",
       "       [-1.52758161e-01,  8.63065869e-01],\n",
       "       [ 9.07585702e-01, -3.17409258e-01],\n",
       "       [-6.84773100e-01, -7.08486907e-01],\n",
       "       [-5.49619190e-01,  7.25464473e-01],\n",
       "       [-1.65788126e+00, -1.12853327e+00],\n",
       "       [-1.98219022e-01, -7.22971264e-01],\n",
       "       [ 2.71004740e+00,  1.44968234e+00],\n",
       "       [-1.98219022e-01, -7.22971264e-01],\n",
       "       [-9.26821468e-01, -7.22971264e-01],\n",
       "       [-2.87912072e-01,  7.25464473e-01],\n",
       "       [-1.98219022e-01, -7.15729086e-01],\n",
       "       [-1.98219022e-01, -7.22971264e-01],\n",
       "       [-5.71735284e-01, -3.60862330e-01],\n",
       "       [-6.42937829e-02,  7.25464473e-01],\n",
       "       [-5.63134581e-01,  1.67816714e-01],\n",
       "       [ 6.80281398e-01,  2.98175931e-01],\n",
       "       [ 2.17188910e+00,  1.24660453e-03],\n",
       "       [ 3.95229514e-01, -7.01244728e-01],\n",
       "       [-1.98219022e-01, -5.56401155e-01],\n",
       "       [ 1.10663055e+00, -7.22971264e-01],\n",
       "       [ 5.94274364e-01,  1.56555720e+00],\n",
       "       [ 3.35141414e+00,  4.34655382e+00],\n",
       "       [-9.56309594e-01, -3.60862330e-01],\n",
       "       [ 8.74411561e-01,  2.53600915e+00],\n",
       "       [-1.98219022e-01, -1.37476735e+00],\n",
       "       [ 8.71954217e-01,  1.24660453e-03],\n",
       "       [-1.98219022e-01, -1.08508020e+00],\n",
       "       [-1.63576516e+00, -1.12853327e+00],\n",
       "       [ 1.11645993e+00,  6.64262127e-02],\n",
       "       [-1.98219022e-01, -5.78127691e-01],\n",
       "       [-9.37879515e-01,  3.48871182e-01],\n",
       "       [-1.53255672e+00, -7.80908694e-01],\n",
       "       [-6.23339504e-01,  1.24660453e-03],\n",
       "       [-9.37879515e-01, -1.02714277e+00],\n",
       "       [-5.87708019e-01, -3.60862330e-01],\n",
       "       [-1.98219022e-01, -7.22971264e-01],\n",
       "       [-7.41231582e-02,  1.24660453e-03],\n",
       "       [-9.55080922e-01, -2.01534399e-01],\n",
       "       [ 1.31065052e-01, -8.56595397e-02],\n",
       "       [ 3.63284044e-01, -7.22971264e-01],\n",
       "       [-6.58970990e-01,  1.24660453e-03],\n",
       "       [-1.98219022e-01,  2.83691573e-01],\n",
       "       [-1.98219022e-01, -1.10680673e+00],\n",
       "       [-6.78629741e-01,  1.24660453e-03],\n",
       "       [-1.98219022e-01, -1.26613467e+00],\n",
       "       [-1.98219022e-01, -1.44718913e+00],\n",
       "       [ 1.44697267e+00, -1.32407210e+00],\n",
       "       [ 1.81557425e+00,  1.21069045e+00],\n",
       "       [ 9.80077345e-01,  2.11596278e+00],\n",
       "       [ 7.52773041e-01, -7.22971264e-01],\n",
       "       [ 1.98642007e-01, -7.22971264e-01],\n",
       "       [-3.97263872e-01, -9.04025732e-01],\n",
       "       [-2.79311368e-01,  1.24660453e-03]])"
      ]
     },
     "execution_count": 178,
     "metadata": {},
     "output_type": "execute_result"
    }
   ],
   "source": [
    "df_scaled"
   ]
  },
  {
   "cell_type": "code",
   "execution_count": 179,
   "id": "9ea70d7e",
   "metadata": {
    "scrolled": true
   },
   "outputs": [
    {
     "data": {
      "text/html": [
       "<div>\n",
       "<style scoped>\n",
       "    .dataframe tbody tr th:only-of-type {\n",
       "        vertical-align: middle;\n",
       "    }\n",
       "\n",
       "    .dataframe tbody tr th {\n",
       "        vertical-align: top;\n",
       "    }\n",
       "\n",
       "    .dataframe thead th {\n",
       "        text-align: right;\n",
       "    }\n",
       "</style>\n",
       "<table border=\"1\" class=\"dataframe\">\n",
       "  <thead>\n",
       "    <tr style=\"text-align: right;\">\n",
       "      <th></th>\n",
       "      <th>0</th>\n",
       "      <th>1</th>\n",
       "    </tr>\n",
       "  </thead>\n",
       "  <tbody>\n",
       "    <tr>\n",
       "      <th>0</th>\n",
       "      <td>-0.499244</td>\n",
       "      <td>-1.439947</td>\n",
       "    </tr>\n",
       "    <tr>\n",
       "      <th>1</th>\n",
       "      <td>-0.198219</td>\n",
       "      <td>-0.969205</td>\n",
       "    </tr>\n",
       "    <tr>\n",
       "      <th>2</th>\n",
       "      <td>-0.005318</td>\n",
       "      <td>0.363356</td>\n",
       "    </tr>\n",
       "    <tr>\n",
       "      <th>3</th>\n",
       "      <td>0.322738</td>\n",
       "      <td>0.225754</td>\n",
       "    </tr>\n",
       "    <tr>\n",
       "      <th>4</th>\n",
       "      <td>0.434547</td>\n",
       "      <td>0.443020</td>\n",
       "    </tr>\n",
       "  </tbody>\n",
       "</table>\n",
       "</div>"
      ],
      "text/plain": [
       "          0         1\n",
       "0 -0.499244 -1.439947\n",
       "1 -0.198219 -0.969205\n",
       "2 -0.005318  0.363356\n",
       "3  0.322738  0.225754\n",
       "4  0.434547  0.443020"
      ]
     },
     "execution_count": 179,
     "metadata": {},
     "output_type": "execute_result"
    }
   ],
   "source": [
    "dff1.head(5)"
   ]
  },
  {
   "cell_type": "code",
   "execution_count": 180,
   "id": "f0cfca25",
   "metadata": {},
   "outputs": [],
   "source": [
    "zscore=(dff['total_bill']-dff['total_bill'].mean())/dff['total_bill'].std()"
   ]
  },
  {
   "cell_type": "code",
   "execution_count": 181,
   "id": "ac4a1bbc",
   "metadata": {},
   "outputs": [
    {
     "data": {
      "text/plain": [
       "0     -0.498220\n",
       "1     -0.197812\n",
       "2     -0.005307\n",
       "3      0.322076\n",
       "4      0.433656\n",
       "         ...   \n",
       "239    0.978067\n",
       "240    0.751229\n",
       "241    0.198235\n",
       "242   -0.396449\n",
       "243   -0.278738\n",
       "Name: total_bill, Length: 244, dtype: float64"
      ]
     },
     "execution_count": 181,
     "metadata": {},
     "output_type": "execute_result"
    }
   ],
   "source": [
    "zscore"
   ]
  },
  {
   "cell_type": "code",
   "execution_count": 182,
   "id": "43e2a354",
   "metadata": {},
   "outputs": [],
   "source": [
    "#Q4 Create a new feature representing the average tip percentage for each dining party size."
   ]
  },
  {
   "cell_type": "code",
   "execution_count": 183,
   "id": "9cd744bf",
   "metadata": {},
   "outputs": [
    {
     "data": {
      "text/html": [
       "<div>\n",
       "<style scoped>\n",
       "    .dataframe tbody tr th:only-of-type {\n",
       "        vertical-align: middle;\n",
       "    }\n",
       "\n",
       "    .dataframe tbody tr th {\n",
       "        vertical-align: top;\n",
       "    }\n",
       "\n",
       "    .dataframe thead th {\n",
       "        text-align: right;\n",
       "    }\n",
       "</style>\n",
       "<table border=\"1\" class=\"dataframe\">\n",
       "  <thead>\n",
       "    <tr style=\"text-align: right;\">\n",
       "      <th></th>\n",
       "      <th>Unnamed: 0</th>\n",
       "      <th>total_bill</th>\n",
       "      <th>tip</th>\n",
       "      <th>sex</th>\n",
       "      <th>smoker</th>\n",
       "      <th>day</th>\n",
       "      <th>time</th>\n",
       "      <th>size</th>\n",
       "    </tr>\n",
       "  </thead>\n",
       "  <tbody>\n",
       "    <tr>\n",
       "      <th>0</th>\n",
       "      <td>0</td>\n",
       "      <td>16.99</td>\n",
       "      <td>1.01</td>\n",
       "      <td>Female</td>\n",
       "      <td>No</td>\n",
       "      <td>Sun</td>\n",
       "      <td>Dinner</td>\n",
       "      <td>2</td>\n",
       "    </tr>\n",
       "    <tr>\n",
       "      <th>1</th>\n",
       "      <td>1</td>\n",
       "      <td>19.44</td>\n",
       "      <td>1.66</td>\n",
       "      <td>Male</td>\n",
       "      <td>No</td>\n",
       "      <td>Sun</td>\n",
       "      <td>Dinner</td>\n",
       "      <td>3</td>\n",
       "    </tr>\n",
       "    <tr>\n",
       "      <th>2</th>\n",
       "      <td>2</td>\n",
       "      <td>21.01</td>\n",
       "      <td>3.50</td>\n",
       "      <td>Male</td>\n",
       "      <td>No</td>\n",
       "      <td>Sun</td>\n",
       "      <td>Dinner</td>\n",
       "      <td>3</td>\n",
       "    </tr>\n",
       "    <tr>\n",
       "      <th>3</th>\n",
       "      <td>3</td>\n",
       "      <td>23.68</td>\n",
       "      <td>3.31</td>\n",
       "      <td>Male</td>\n",
       "      <td>No</td>\n",
       "      <td>Sun</td>\n",
       "      <td>Dinner</td>\n",
       "      <td>2</td>\n",
       "    </tr>\n",
       "    <tr>\n",
       "      <th>4</th>\n",
       "      <td>4</td>\n",
       "      <td>24.59</td>\n",
       "      <td>3.61</td>\n",
       "      <td>Female</td>\n",
       "      <td>No</td>\n",
       "      <td>Sun</td>\n",
       "      <td>Dinner</td>\n",
       "      <td>4</td>\n",
       "    </tr>\n",
       "  </tbody>\n",
       "</table>\n",
       "</div>"
      ],
      "text/plain": [
       "   Unnamed: 0  total_bill   tip     sex smoker  day    time  size\n",
       "0           0       16.99  1.01  Female     No  Sun  Dinner     2\n",
       "1           1       19.44  1.66    Male     No  Sun  Dinner     3\n",
       "2           2       21.01  3.50    Male     No  Sun  Dinner     3\n",
       "3           3       23.68  3.31    Male     No  Sun  Dinner     2\n",
       "4           4       24.59  3.61  Female     No  Sun  Dinner     4"
      ]
     },
     "execution_count": 183,
     "metadata": {},
     "output_type": "execute_result"
    }
   ],
   "source": [
    "df.head(5)"
   ]
  },
  {
   "cell_type": "code",
   "execution_count": 185,
   "id": "7d4acdd3",
   "metadata": {},
   "outputs": [],
   "source": [
    "df['avg_tip_per_size'] = df.groupby('size')['tip'].transform('mean')"
   ]
  },
  {
   "cell_type": "code",
   "execution_count": 187,
   "id": "c3dadbe6",
   "metadata": {},
   "outputs": [
    {
     "data": {
      "text/html": [
       "<div>\n",
       "<style scoped>\n",
       "    .dataframe tbody tr th:only-of-type {\n",
       "        vertical-align: middle;\n",
       "    }\n",
       "\n",
       "    .dataframe tbody tr th {\n",
       "        vertical-align: top;\n",
       "    }\n",
       "\n",
       "    .dataframe thead th {\n",
       "        text-align: right;\n",
       "    }\n",
       "</style>\n",
       "<table border=\"1\" class=\"dataframe\">\n",
       "  <thead>\n",
       "    <tr style=\"text-align: right;\">\n",
       "      <th></th>\n",
       "      <th>Unnamed: 0</th>\n",
       "      <th>total_bill</th>\n",
       "      <th>tip</th>\n",
       "      <th>sex</th>\n",
       "      <th>smoker</th>\n",
       "      <th>day</th>\n",
       "      <th>time</th>\n",
       "      <th>size</th>\n",
       "      <th>avg_tip_per_size</th>\n",
       "    </tr>\n",
       "  </thead>\n",
       "  <tbody>\n",
       "    <tr>\n",
       "      <th>0</th>\n",
       "      <td>0</td>\n",
       "      <td>16.99</td>\n",
       "      <td>1.01</td>\n",
       "      <td>Female</td>\n",
       "      <td>No</td>\n",
       "      <td>Sun</td>\n",
       "      <td>Dinner</td>\n",
       "      <td>2</td>\n",
       "      <td>2.582308</td>\n",
       "    </tr>\n",
       "    <tr>\n",
       "      <th>1</th>\n",
       "      <td>1</td>\n",
       "      <td>19.44</td>\n",
       "      <td>1.66</td>\n",
       "      <td>Male</td>\n",
       "      <td>No</td>\n",
       "      <td>Sun</td>\n",
       "      <td>Dinner</td>\n",
       "      <td>3</td>\n",
       "      <td>3.393158</td>\n",
       "    </tr>\n",
       "    <tr>\n",
       "      <th>2</th>\n",
       "      <td>2</td>\n",
       "      <td>21.01</td>\n",
       "      <td>3.50</td>\n",
       "      <td>Male</td>\n",
       "      <td>No</td>\n",
       "      <td>Sun</td>\n",
       "      <td>Dinner</td>\n",
       "      <td>3</td>\n",
       "      <td>3.393158</td>\n",
       "    </tr>\n",
       "    <tr>\n",
       "      <th>3</th>\n",
       "      <td>3</td>\n",
       "      <td>23.68</td>\n",
       "      <td>3.31</td>\n",
       "      <td>Male</td>\n",
       "      <td>No</td>\n",
       "      <td>Sun</td>\n",
       "      <td>Dinner</td>\n",
       "      <td>2</td>\n",
       "      <td>2.582308</td>\n",
       "    </tr>\n",
       "    <tr>\n",
       "      <th>4</th>\n",
       "      <td>4</td>\n",
       "      <td>24.59</td>\n",
       "      <td>3.61</td>\n",
       "      <td>Female</td>\n",
       "      <td>No</td>\n",
       "      <td>Sun</td>\n",
       "      <td>Dinner</td>\n",
       "      <td>4</td>\n",
       "      <td>4.135405</td>\n",
       "    </tr>\n",
       "  </tbody>\n",
       "</table>\n",
       "</div>"
      ],
      "text/plain": [
       "   Unnamed: 0  total_bill   tip     sex smoker  day    time  size  \\\n",
       "0           0       16.99  1.01  Female     No  Sun  Dinner     2   \n",
       "1           1       19.44  1.66    Male     No  Sun  Dinner     3   \n",
       "2           2       21.01  3.50    Male     No  Sun  Dinner     3   \n",
       "3           3       23.68  3.31    Male     No  Sun  Dinner     2   \n",
       "4           4       24.59  3.61  Female     No  Sun  Dinner     4   \n",
       "\n",
       "   avg_tip_per_size  \n",
       "0          2.582308  \n",
       "1          3.393158  \n",
       "2          3.393158  \n",
       "3          2.582308  \n",
       "4          4.135405  "
      ]
     },
     "execution_count": 187,
     "metadata": {},
     "output_type": "execute_result"
    }
   ],
   "source": [
    "df.head(5)"
   ]
  },
  {
   "cell_type": "code",
   "execution_count": 188,
   "id": "38bd51e9",
   "metadata": {},
   "outputs": [],
   "source": [
    "#Q5 Create a new feature based on total bill and tips if total bill is greater than 10$ and tips is greater than 3$ mark as Highest-bills-with-tips otherwise Normal-bills"
   ]
  },
  {
   "cell_type": "code",
   "execution_count": 189,
   "id": "eae5968f",
   "metadata": {},
   "outputs": [],
   "source": [
    "def categorize_bills(total_bill, tip):\n",
    "    if total_bill > 10 and tip > 3:\n",
    "        return 'Highest-bills-with-tips'\n",
    "    else:\n",
    "        return 'Normal-bills'\n",
    "    \n",
    "df['bill_category'] = df.apply(lambda row: categorize_bills(row['total_bill'], row['tip']), axis=1)"
   ]
  },
  {
   "cell_type": "code",
   "execution_count": 191,
   "id": "ee1cc696",
   "metadata": {},
   "outputs": [
    {
     "data": {
      "text/html": [
       "<div>\n",
       "<style scoped>\n",
       "    .dataframe tbody tr th:only-of-type {\n",
       "        vertical-align: middle;\n",
       "    }\n",
       "\n",
       "    .dataframe tbody tr th {\n",
       "        vertical-align: top;\n",
       "    }\n",
       "\n",
       "    .dataframe thead th {\n",
       "        text-align: right;\n",
       "    }\n",
       "</style>\n",
       "<table border=\"1\" class=\"dataframe\">\n",
       "  <thead>\n",
       "    <tr style=\"text-align: right;\">\n",
       "      <th></th>\n",
       "      <th>Unnamed: 0</th>\n",
       "      <th>total_bill</th>\n",
       "      <th>tip</th>\n",
       "      <th>sex</th>\n",
       "      <th>smoker</th>\n",
       "      <th>day</th>\n",
       "      <th>time</th>\n",
       "      <th>size</th>\n",
       "      <th>avg_tip_per_size</th>\n",
       "      <th>bill_category</th>\n",
       "    </tr>\n",
       "  </thead>\n",
       "  <tbody>\n",
       "    <tr>\n",
       "      <th>0</th>\n",
       "      <td>0</td>\n",
       "      <td>16.99</td>\n",
       "      <td>1.01</td>\n",
       "      <td>Female</td>\n",
       "      <td>No</td>\n",
       "      <td>Sun</td>\n",
       "      <td>Dinner</td>\n",
       "      <td>2</td>\n",
       "      <td>2.582308</td>\n",
       "      <td>Normal-bills</td>\n",
       "    </tr>\n",
       "    <tr>\n",
       "      <th>1</th>\n",
       "      <td>1</td>\n",
       "      <td>19.44</td>\n",
       "      <td>1.66</td>\n",
       "      <td>Male</td>\n",
       "      <td>No</td>\n",
       "      <td>Sun</td>\n",
       "      <td>Dinner</td>\n",
       "      <td>3</td>\n",
       "      <td>3.393158</td>\n",
       "      <td>Normal-bills</td>\n",
       "    </tr>\n",
       "    <tr>\n",
       "      <th>2</th>\n",
       "      <td>2</td>\n",
       "      <td>21.01</td>\n",
       "      <td>3.50</td>\n",
       "      <td>Male</td>\n",
       "      <td>No</td>\n",
       "      <td>Sun</td>\n",
       "      <td>Dinner</td>\n",
       "      <td>3</td>\n",
       "      <td>3.393158</td>\n",
       "      <td>Highest-bills-with-tips</td>\n",
       "    </tr>\n",
       "    <tr>\n",
       "      <th>3</th>\n",
       "      <td>3</td>\n",
       "      <td>23.68</td>\n",
       "      <td>3.31</td>\n",
       "      <td>Male</td>\n",
       "      <td>No</td>\n",
       "      <td>Sun</td>\n",
       "      <td>Dinner</td>\n",
       "      <td>2</td>\n",
       "      <td>2.582308</td>\n",
       "      <td>Highest-bills-with-tips</td>\n",
       "    </tr>\n",
       "    <tr>\n",
       "      <th>4</th>\n",
       "      <td>4</td>\n",
       "      <td>24.59</td>\n",
       "      <td>3.61</td>\n",
       "      <td>Female</td>\n",
       "      <td>No</td>\n",
       "      <td>Sun</td>\n",
       "      <td>Dinner</td>\n",
       "      <td>4</td>\n",
       "      <td>4.135405</td>\n",
       "      <td>Highest-bills-with-tips</td>\n",
       "    </tr>\n",
       "  </tbody>\n",
       "</table>\n",
       "</div>"
      ],
      "text/plain": [
       "   Unnamed: 0  total_bill   tip     sex smoker  day    time  size  \\\n",
       "0           0       16.99  1.01  Female     No  Sun  Dinner     2   \n",
       "1           1       19.44  1.66    Male     No  Sun  Dinner     3   \n",
       "2           2       21.01  3.50    Male     No  Sun  Dinner     3   \n",
       "3           3       23.68  3.31    Male     No  Sun  Dinner     2   \n",
       "4           4       24.59  3.61  Female     No  Sun  Dinner     4   \n",
       "\n",
       "   avg_tip_per_size            bill_category  \n",
       "0          2.582308             Normal-bills  \n",
       "1          3.393158             Normal-bills  \n",
       "2          3.393158  Highest-bills-with-tips  \n",
       "3          2.582308  Highest-bills-with-tips  \n",
       "4          4.135405  Highest-bills-with-tips  "
      ]
     },
     "execution_count": 191,
     "metadata": {},
     "output_type": "execute_result"
    }
   ],
   "source": [
    "df.head(5)"
   ]
  },
  {
   "cell_type": "code",
   "execution_count": null,
   "id": "4f32955d",
   "metadata": {},
   "outputs": [],
   "source": []
  }
 ],
 "metadata": {
  "kernelspec": {
   "display_name": "Python 3 (ipykernel)",
   "language": "python",
   "name": "python3"
  },
  "language_info": {
   "codemirror_mode": {
    "name": "ipython",
    "version": 3
   },
   "file_extension": ".py",
   "mimetype": "text/x-python",
   "name": "python",
   "nbconvert_exporter": "python",
   "pygments_lexer": "ipython3",
   "version": "3.9.6"
  }
 },
 "nbformat": 4,
 "nbformat_minor": 5
}
