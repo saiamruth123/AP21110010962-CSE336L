{
 "cells": [
  {
   "cell_type": "code",
   "execution_count": 1,
   "id": "16a74d67",
   "metadata": {},
   "outputs": [],
   "source": [
    "import numpy as np\n",
    "import matplotlib.pyplot as plt\n",
    "\n",
    "X = np.array([[1, 2],[2, 3],[3, 4],[3, 5],[4, 2],[5, 3]])\n",
    "y = np.array([0, 0, 1, 1, 2, 2])  # Sample labels\n",
    "def train_test_split(X, y, test_size=0.2):\n",
    "  \n",
    "    num_samples = X.shape[0]\n",
    "    num_test_samples = int(test_size * num_samples)\n",
    "    indices = np.random.permutation(num_samples)\n",
    "    test_indices = indices[:num_test_samples]\n",
    "    train_indices = indices[num_test_samples:]\n",
    "\n",
    "    X_train, X_test = X[train_indices], X[test_indices]\n",
    "    y_train, y_test = y[train_indices], y[test_indices]\n",
    "\n",
    "    return X_train, X_test, y_train, y_test"
   ]
  },
  {
   "cell_type": "code",
   "execution_count": 2,
   "id": "e2134b79",
   "metadata": {},
   "outputs": [],
   "source": [
    "def euclidean_distance(x1, x2):\n",
    "  \n",
    "    return np.sqrt(np.sum((x1 - x2)**2))"
   ]
  },
  {
   "cell_type": "code",
   "execution_count": 3,
   "id": "c3a54540",
   "metadata": {},
   "outputs": [],
   "source": [
    "def knn_predict(X_train, y_train, x_test, k=3):\n",
    "\n",
    "    distances = [euclidean_distance(x_test, x_train) for x_train in X_train]\n",
    "    k_indices = np.argsort(distances)[:k]\n",
    "    k_nearest_labels = [y_train[i] for i in k_indices]\n",
    "    most_common = np.argmax(np.bincount(k_nearest_labels))\n",
    "    return most_common"
   ]
  },
  {
   "cell_type": "code",
   "execution_count": 4,
   "id": "d0a1e102",
   "metadata": {},
   "outputs": [],
   "source": [
    "def calculate_accuracy(y_true, y_pred):\n",
    "    correct = np.sum(y_true == y_pred)\n",
    "    total = len(y_true)\n",
    "    accuracy = correct / total\n",
    "    return accuracy\n"
   ]
  },
  {
   "cell_type": "code",
   "execution_count": 5,
   "id": "fae516ae",
   "metadata": {},
   "outputs": [],
   "source": [
    "def confusion_matrix(y_true, y_pred, num_classes):\n",
    "    cm = np.zeros((num_classes, num_classes), dtype=int)\n",
    "    for true_label, pred_label in zip(y_true, y_pred):\n",
    "        cm[true_label][pred_label] += 1\n",
    "    return cm"
   ]
  },
  {
   "cell_type": "code",
   "execution_count": 7,
   "id": "bf87b9f5",
   "metadata": {},
   "outputs": [],
   "source": [
    "def k_vs_accuracy(X_train, y_train, X_test, y_test, max_k=10):\n",
    "    k_values = range(1, max_k + 1)\n",
    "    accuracies = []\n",
    "\n",
    "    for k in k_values:\n",
    "        y_pred = [knn_predict(X_train, y_train, x_test, k) for x_test in X_test]\n",
    "        accuracy = calculate_accuracy(y_test, y_pred)\n",
    "        accuracies.append(accuracy)\n",
    "\n",
    "    max_accuracy = max(accuracies)\n",
    "    best_k = k_values[accuracies.index(max_accuracy)]\n",
    "    plt.plot(k_values, accuracies, marker='o')\n",
    "    plt.title('K vs Accuracy')\n",
    "    plt.xlabel('K')\n",
    "    plt.ylabel('Accuracy')\n",
    "    plt.xticks(k_values)\n",
    "    plt.grid(True)\n",
    "    plt.show()\n",
    "\n",
    "    return best_k, max_accuracy\n"
   ]
  },
  {
   "cell_type": "code",
   "execution_count": 8,
   "id": "b0d62f07",
   "metadata": {},
   "outputs": [
    {
     "data": {
      "image/png": "[encoded data removed]",
      "text/plain": [
       "<Figure size 640x480 with 1 Axes>"
      ]
     },
     "metadata": {},
     "output_type": "display_data"
    },
    {
     "name": "stdout",
     "output_type": "stream",
     "text": [
      "Best K for maximum accuracy: 1\n",
      "Maximum accuracy: 1.0\n",
      "Accuracy with best K (1): 1.0\n",
      "Confusion Matrix:\n",
      "[[0 0 0]\n",
      " [0 1 0]\n",
      " [0 0 0]]\n"
     ]
    }
   ],
   "source": [
    "if __name__ == \"__main__\":\n",
    "    X_train, X_test, y_train, y_test = train_test_split(X, y, test_size=0.2)                  \n",
    "    best_k, max_accuracy = k_vs_accuracy(X_train, y_train, X_test, y_test)\n",
    "    print(f\"Best K for maximum accuracy: {best_k}\")\n",
    "    print(f\"Maximum accuracy: {max_accuracy}\")\n",
    "    y_pred = [knn_predict(X_train, y_train, x_test, best_k) for x_test in X_test]\n",
    "    accuracy = calculate_accuracy(y_test, y_pred)\n",
    "    print(f\"Accuracy with best K ({best_k}): {accuracy}\")\n",
    "    num_classes = len(np.unique(y))\n",
    "    cm = confusion_matrix(y_test, y_pred, num_classes)\n",
    "    print(\"Confusion Matrix:\")\n",
    "    print(cm)"
   ]
  },
  {
   "cell_type": "code",
   "execution_count": null,
   "id": "056b905f",
   "metadata": {},
   "outputs": [],
   "source": []
  }
 ],
 "metadata": {
  "kernelspec": {
   "display_name": "Python 3 (ipykernel)",
   "language": "python",
   "name": "python3"
  },
  "language_info": {
   "codemirror_mode": {
    "name": "ipython",
    "version": 3
   },
   "file_extension": ".py",
   "mimetype": "text/x-python",
   "name": "python",
   "nbconvert_exporter": "python",
   "pygments_lexer": "ipython3",
   "version": "3.7.5"
  }
 },
 "nbformat": 4,
 "nbformat_minor": 5
}
