{
 "cells": [
  {
   "cell_type": "code",
   "execution_count": 1,
   "id": "9816c8de",
   "metadata": {},
   "outputs": [],
   "source": [
    "import numpy as np"
   ]
  },
  {
   "cell_type": "code",
   "execution_count": 2,
   "id": "92316aaf",
   "metadata": {},
   "outputs": [
    {
     "name": "stdout",
     "output_type": "stream",
     "text": [
      "Feature vector: [0.70134782 0.98855317 0.21047567 0.04677694 0.30746627]\n",
      "Mean: 0.45092397315192556\n",
      "Variance: 0.11869751428660232\n"
     ]
    }
   ],
   "source": [
    "def compute_mean_and_variance(feature_vector):\n",
    "    return np.mean(feature_vector), np.var(feature_vector)\n",
    "N=5\n",
    "feature_vector = np.random.rand(N)  \n",
    "mean, variance = compute_mean_and_variance(feature_vector)\n",
    "print(\"Feature vector:\", feature_vector)\n",
    "print(\"Mean:\", mean)\n",
    "print(\"Variance:\", variance)"
   ]
  },
  {
   "cell_type": "code",
   "execution_count": 3,
   "id": "07ec4140",
   "metadata": {},
   "outputs": [],
   "source": [
    "import numpy as np"
   ]
  },
  {
   "cell_type": "code",
   "execution_count": 4,
   "id": "99c917e1",
   "metadata": {},
   "outputs": [
    {
     "name": "stdout",
     "output_type": "stream",
     "text": [
      "Vector 1: [0.34501265 0.05593825 0.309325  ]\n",
      "Vector 2: [0.64281373 0.91411988 0.37670018]\n",
      "Covariance: -0.034184288025247964\n"
     ]
    }
   ],
   "source": [
    "def compute_covariance(vector1, vector2):\n",
    "    return np.cov(vector1, vector2)[0,1]\n",
    "m=3\n",
    "vector1 = np.random.rand(m)\n",
    "vector2 = np.random.rand(m)\n",
    "covariance = compute_covariance(vector1, vector2)\n",
    "print(\"Vector 1:\", vector1)\n",
    "print(\"Vector 2:\", vector2)\n",
    "print(\"Covariance:\", covariance)"
   ]
  },
  {
   "cell_type": "code",
   "execution_count": 5,
   "id": "2b488410",
   "metadata": {},
   "outputs": [
    {
     "name": "stdout",
     "output_type": "stream",
     "text": [
      "Vector 1: [0.67055149 0.29838199 0.07954374]\n",
      "Vector 2: [0.83952826 0.09701413 0.25708224]\n",
      "Correlation: 0.8358106350750539\n"
     ]
    }
   ],
   "source": [
    "def compute_correlation(vector1, vector2):\n",
    "    return np.corrcoef(vector1, vector2)[0,1]\n",
    "m=3\n",
    "vector1 = np.random.rand(m)\n",
    "vector2 = np.random.rand(m)\n",
    "correlation = compute_correlation(vector1, vector2)\n",
    "print(\"Vector 1:\", vector1)\n",
    "print(\"Vector 2:\", vector2)\n",
    "print(\"Correlation:\", correlation)"
   ]
  },
  {
   "cell_type": "code",
   "execution_count": 1,
   "id": "9c2ced9c",
   "metadata": {},
   "outputs": [
    {
     "name": "stdout",
     "output_type": "stream",
     "text": [
      "Feature Matrix:\n",
      "[[1 2 3]\n",
      " [4 5 6]\n",
      " [7 8 9]]\n",
      "\n",
      "Covariance Matrix:\n",
      "[[1. 1. 1.]\n",
      " [1. 1. 1.]\n",
      " [1. 1. 1.]]\n",
      "\n",
      "Correlation Matrix:\n",
      "[[1. 1. 1.]\n",
      " [1. 1. 1.]\n",
      " [1. 1. 1.]]\n"
     ]
    }
   ],
   "source": [
    "import numpy as np\n",
    "def compute_covariance_matrix(matrix):\n",
    "    covariance_matrix = np.cov(matrix)\n",
    "    return covariance_matrix\n",
    "\n",
    "def compute_correlation_matrix(matrix):\n",
    "    correlation_matrix = np.corrcoef(matrix)\n",
    "    return correlation_matrix\n",
    "\n",
    "def main():\n",
    "    feature_matrix = np.array([[1, 2, 3], [4, 5, 6], [7, 8, 9]])\n",
    "    covariance_matrix = compute_covariance_matrix(feature_matrix)\n",
    "    correlation_matrix = compute_correlation_matrix(feature_matrix)\n",
    "\n",
    "    print(\"Feature Matrix:\")\n",
    "    print(feature_matrix)\n",
    "\n",
    "    print(\"\\nCovariance Matrix:\")\n",
    "    print(covariance_matrix)\n",
    "\n",
    "    print(\"\\nCorrelation Matrix:\")\n",
    "    print(correlation_matrix)\n",
    "\n",
    "if __name__ == \"__main__\":\n",
    "    main()\n"
   ]
  },
  {
   "cell_type": "code",
   "execution_count": null,
   "id": "20b74085",
   "metadata": {},
   "outputs": [],
   "source": []
  }
 ],
 "metadata": {
  "kernelspec": {
   "display_name": "Python 3 (ipykernel)",
   "language": "python",
   "name": "python3"
  },
  "language_info": {
   "codemirror_mode": {
    "name": "ipython",
    "version": 3
   },
   "file_extension": ".py",
   "mimetype": "text/x-python",
   "name": "python",
   "nbconvert_exporter": "python",
   "pygments_lexer": "ipython3",
   "version": "3.7.5"
  }
 },
 "nbformat": 4,
 "nbformat_minor": 5
}
