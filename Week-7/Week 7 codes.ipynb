{
 "cells": [
  {
   "cell_type": "markdown",
   "id": "0be3c369",
   "metadata": {},
   "source": [
    "### Create a vector (array) of 1XN dimension representing N-dimensional feature vector of a sample. Write a program to compute the mean and variance of the elements present in the array.\n"
   ]
  },
  {
   "cell_type": "code",
   "execution_count": 1,
   "id": "4469e64b",
   "metadata": {},
   "outputs": [],
   "source": [
    "import numpy as np"
   ]
  },
  {
   "cell_type": "code",
   "execution_count": 10,
   "id": "fae5956a",
   "metadata": {},
   "outputs": [],
   "source": [
    "def compute_mean_and_variance(feature_vector):\n",
    "    return np.mean(feature_vector), np.var(feature_vector)"
   ]
  },
  {
   "cell_type": "code",
   "execution_count": 11,
   "id": "91eb8b9a",
   "metadata": {},
   "outputs": [],
   "source": [
    "N=5\n",
    "feature_vector = np.random.rand(N)  \n",
    "mean, variance = compute_mean_and_variance(feature_vector)"
   ]
  },
  {
   "cell_type": "code",
   "execution_count": 12,
   "id": "ea6fa09c",
   "metadata": {},
   "outputs": [
    {
     "name": "stdout",
     "output_type": "stream",
     "text": [
      "Feature vector: [0.29678345 0.60019067 0.00239229 0.67997175 0.92140793]\n",
      "Mean: 0.5001492181559212\n",
      "Variance: 0.10178458514709865\n"
     ]
    }
   ],
   "source": [
    "print(\"Feature vector:\", feature_vector)\n",
    "print(\"Mean:\", mean)\n",
    "print(\"Variance:\", variance)"
   ]
  },
  {
   "cell_type": "markdown",
   "id": "9499d40f",
   "metadata": {},
   "source": [
    "### 2. Create two vectors each of dimension 1XM each representing N-dimensional feature vector of a sample. Write a program to compute the Covariance between them."
   ]
  },
  {
   "cell_type": "code",
   "execution_count": 17,
   "id": "595d08ab",
   "metadata": {},
   "outputs": [],
   "source": [
    "import numpy as np"
   ]
  },
  {
   "cell_type": "code",
   "execution_count": 14,
   "id": "e2ea8427",
   "metadata": {},
   "outputs": [],
   "source": [
    "def compute_covariance(vector1, vector2):\n",
    "    return np.cov(vector1, vector2)[0,1]"
   ]
  },
  {
   "cell_type": "code",
   "execution_count": 15,
   "id": "8d2e4090",
   "metadata": {},
   "outputs": [],
   "source": [
    "m=3\n",
    "vector1 = np.random.rand(m)\n",
    "vector2 = np.random.rand(m)\n",
    "covariance = compute_covariance(vector1, vector2)"
   ]
  },
  {
   "cell_type": "code",
   "execution_count": 16,
   "id": "867618b8",
   "metadata": {},
   "outputs": [
    {
     "name": "stdout",
     "output_type": "stream",
     "text": [
      "Vector 1: [0.93804597 0.79462215 0.70499864]\n",
      "Vector 2: [0.66170836 0.85386627 0.26299886]\n",
      "Covariance: 0.019718961797140777\n"
     ]
    }
   ],
   "source": [
    "print(\"Vector 1:\", vector1)\n",
    "print(\"Vector 2:\", vector2)\n",
    "print(\"Covariance:\", covariance)"
   ]
  },
  {
   "cell_type": "markdown",
   "id": "b2c41871",
   "metadata": {},
   "source": [
    "### Create two vectors each of dimension 1XN. Write a program to compute the Correlation between them.\n",
    "\n"
   ]
  },
  {
   "cell_type": "code",
   "execution_count": 18,
   "id": "7e7d4e5a",
   "metadata": {},
   "outputs": [],
   "source": [
    "import numpy as np\n"
   ]
  },
  {
   "cell_type": "code",
   "execution_count": 23,
   "id": "ea098b26",
   "metadata": {},
   "outputs": [],
   "source": [
    "def compute_correlation(vector1, vector2):\n",
    "    return np.corrcoef(vector1, vector2)[0,1]"
   ]
  },
  {
   "cell_type": "code",
   "execution_count": 24,
   "id": "8146403c",
   "metadata": {},
   "outputs": [],
   "source": [
    "m=3\n",
    "vector1 = np.random.rand(m)\n",
    "vector2 = np.random.rand(m)\n",
    "correlation = compute_correlation(vector1, vector2)"
   ]
  },
  {
   "cell_type": "code",
   "execution_count": 25,
   "id": "2abff3df",
   "metadata": {},
   "outputs": [
    {
     "name": "stdout",
     "output_type": "stream",
     "text": [
      "Vector 1: [0.31421174 0.78612321 0.74756991]\n",
      "Vector 2: [0.97917845 0.50116012 0.27866169]\n",
      "Correlation: -0.925035028309979\n"
     ]
    }
   ],
   "source": [
    "print(\"Vector 1:\", vector1)\n",
    "print(\"Vector 2:\", vector2)\n",
    "print(\"Correlation:\", correlation)"
   ]
  },
  {
   "cell_type": "markdown",
   "id": "23b9fce4",
   "metadata": {},
   "source": [
    "### Create a Matrix of MXN dimension representing the M-dimensional feature vector for N number of samples i. e (i,j)th entry of the matrix represents the ith feature of jth sample. Write a program to compute the covariance matrix and correlation matrix."
   ]
  },
  {
   "cell_type": "code",
   "execution_count": 26,
   "id": "e4a94527",
   "metadata": {},
   "outputs": [],
   "source": [
    "import numpy as np"
   ]
  },
  {
   "cell_type": "code",
   "execution_count": 29,
   "id": "48dee737",
   "metadata": {},
   "outputs": [],
   "source": [
    "def compute_correlation_matrix(feature_vector):\n",
    "    correlation_matrix = np.corrcoef(feature_matrix)\n",
    "    return correlation_matrix"
   ]
  },
  {
   "cell_type": "code",
   "execution_count": 30,
   "id": "e77830e5",
   "metadata": {},
   "outputs": [],
   "source": [
    "feature_matrix = np.array([[1, 2, 3],\n",
    "                            [4, 5, 6],\n",
    "                            [7, 8, 9]])\n",
    "\n",
    "cov_matrix = compute_covariance_matrix(feature_matrix)\n",
    "correlation_matrix = compute_correlation_matrix(feature_matrix)"
   ]
  },
  {
   "cell_type": "code",
   "execution_count": 31,
   "id": "481ca196",
   "metadata": {},
   "outputs": [
    {
     "name": "stdout",
     "output_type": "stream",
     "text": [
      "Covariance Matrix:\n",
      "[[1. 1. 1.]\n",
      " [1. 1. 1.]\n",
      " [1. 1. 1.]]\n",
      "\n",
      "Correlation Matrix:\n",
      "[[1. 1. 1.]\n",
      " [1. 1. 1.]\n",
      " [1. 1. 1.]]\n"
     ]
    }
   ],
   "source": [
    "print(\"Covariance Matrix:\")\n",
    "print(cov_matrix)\n",
    "\n",
    "print(\"\\nCorrelation Matrix:\")\n",
    "print(correlation_matrix)"
   ]
  },
  {
   "cell_type": "code",
   "execution_count": null,
   "id": "a7195b60",
   "metadata": {},
   "outputs": [],
   "source": []
  }
 ],
 "metadata": {
  "kernelspec": {
   "display_name": "Python 3 (ipykernel)",
   "language": "python",
   "name": "python3"
  },
  "language_info": {
   "codemirror_mode": {
    "name": "ipython",
    "version": 3
   },
   "file_extension": ".py",
   "mimetype": "text/x-python",
   "name": "python",
   "nbconvert_exporter": "python",
   "pygments_lexer": "ipython3",
   "version": "3.7.5"
  }
 },
 "nbformat": 4,
 "nbformat_minor": 5
}
